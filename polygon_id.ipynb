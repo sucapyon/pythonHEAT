{
 "cells": [
  {
   "cell_type": "code",
   "execution_count": 2,
   "metadata": {},
   "outputs": [
    {
     "name": "stdout",
     "output_type": "stream",
     "text": [
      "['./ryugu_shape_spc_49k_v20200323/hyb2_tir_20181014_225032_l3.csv', './ryugu_shape_spc_49k_v20200323/hyb2_tir_20181014_225905_l3.csv', './ryugu_shape_spc_49k_v20200323/hyb2_tir_20181014_221729_l3.csv', './ryugu_shape_spc_49k_v20200323/hyb2_tir_20181014_231610_l3.csv', './ryugu_shape_spc_49k_v20200323/hyb2_tir_20181014_220856_l3.csv', './ryugu_shape_spc_49k_v20200323/hyb2_tir_20181014_223434_l3.csv', './ryugu_shape_spc_49k_v20200323/hyb2_tir_20181014_230737_l3.csv', './ryugu_shape_spc_49k_v20200323/hyb2_tir_20181014_222601_l3.csv']\n"
     ]
    }
   ],
   "source": [
    "import os\n",
    "import glob\n",
    "import pandas as pd\n",
    "import numpy as np\n",
    "result = glob.glob('./ryugu_shape_spc_49k_v20200323/*.csv')\n",
    "print(result)\n"
   ]
  },
  {
   "cell_type": "code",
   "execution_count": 3,
   "metadata": {},
   "outputs": [],
   "source": [
    "df = pd.DataFrame()\n",
    "df_normal_vector = pd.DataFrame()"
   ]
  },
  {
   "cell_type": "code",
   "execution_count": 4,
   "metadata": {},
   "outputs": [],
   "source": [
    "for item in result:\n",
    "    temp = pd.read_csv(item)\n",
    "    temp1 = temp.loc[:,['polygon_id','brightness_temperature','local_solar_time_normal_vector']]\n",
    "    temp1['polygon_id'] = temp1['polygon_id'].astype('int')\n",
    "    temp2 = temp.loc[:,['polygon_id','brightness_temperature','local_solar_time']]\n",
    "    temp2['polygon_id'] = temp2['polygon_id'].astype('int')\n",
    "    df = pd.concat([df,temp2], join='outer')\n",
    "    df_normal_vector = pd.concat([df_normal_vector,temp1], join='outer')\n",
    "polygon_id = df.loc[:,['polygon_id']]\n",
    "polygon_id = polygon_id = polygon_id.sort_values('polygon_id')\n",
    "#polygon_id.to_csv('output.csv')\n",
    "polygon_id = polygon_id.drop_duplicates(subset=['polygon_id'])\n",
    "polygon_id.to_csv('output.csv')\n"
   ]
  },
  {
   "cell_type": "code",
   "execution_count": null,
   "metadata": {},
   "outputs": [],
   "source": []
  },
  {
   "cell_type": "code",
   "execution_count": 6,
   "metadata": {},
   "outputs": [],
   "source": [
    "\n",
    "\n",
    "cnt = 0\n",
    "df_local_solar_time = pd.DataFrame()\n",
    "df_local_solar_time_normal_vector = pd.DataFrame()\n",
    "\n",
    "for id in polygon_id['polygon_id']:\n",
    "    temp = df[df['polygon_id'] == id]\n",
    "    temp = temp.sort_values('local_solar_time')\n",
    "    df_local_solar_time = pd.concat([df_local_solar_time,temp])\n",
    "\n",
    "cnt = 0\n",
    "for id in polygon_id['polygon_id']:\n",
    "    temp = df_normal_vector[df_normal_vector['polygon_id'] == id]\n",
    "    temp = temp.sort_values('local_solar_time_normal_vector')\n",
    "    df_local_solar_time_normal_vector = pd.concat([df_local_solar_time_normal_vector,temp])\n",
    "    "
   ]
  },
  {
   "cell_type": "code",
   "execution_count": 7,
   "metadata": {},
   "outputs": [],
   "source": [
    "df_local_solar_time.to_csv('df_local_solar_time.csv')\n",
    "df_local_solar_time_normal_vector.to_csv('df_local_solar_time_normal_vector.csv')"
   ]
  }
 ],
 "metadata": {
  "kernelspec": {
   "display_name": "Python 3",
   "language": "python",
   "name": "python3"
  },
  "language_info": {
   "codemirror_mode": {
    "name": "ipython",
    "version": 3
   },
   "file_extension": ".py",
   "mimetype": "text/x-python",
   "name": "python",
   "nbconvert_exporter": "python",
   "pygments_lexer": "ipython3",
   "version": "3.11.8"
  }
 },
 "nbformat": 4,
 "nbformat_minor": 2
}
